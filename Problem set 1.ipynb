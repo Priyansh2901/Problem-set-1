{
 "cells": [
  {
   "cell_type": "markdown",
   "metadata": {},
   "source": [
    "# Question 1 \n",
    "# What data type is each of the following \n",
    "\n",
    "# Answer 1\n",
    "\n",
    "## 5 = Integer\n",
    "## 5.0=Float\n",
    "## 5>1=boolean\n",
    "## '5'=String\n",
    "## 5*2=Integer\n",
    "## '5'*2=String\n",
    "## '5'+'2'=String\n",
    "## 5/2=Float\n",
    "## 5//2=Integer\n",
    "## [5,2,1]=List\n",
    "## 5 in [1,4,6]=Boolean (true,false)\n",
    "## math.pi=Float"
   ]
  },
  {
   "cell_type": "markdown",
   "metadata": {},
   "source": [
    "# Question 2\n",
    "# Write (and evaluate) Python expressions that answer these questions:\n",
    "# a. How many letters are there in 'Supercalifragilisticexpialidocious'?\n",
    "# b. Does 'Supercalifragilisticexpialidocious' contain 'ice' as a substring?  \n",
    "# c. Which of the following words is the longest: Supercalifragilisticexpialidocious, Honorificabilitudinitatibus,  or Bababadalgharaghtakamminarronnkonn? \n",
    "# d. Which composer comes first in the dictionary: 'Berlioz', 'Borodin', 'Brian', 'Bartok', 'Bellini', 'Buxtehude', 'Bernstein'. Which one comes last? \n",
    "\n",
    "# Answer 2\n",
    "# a."
   ]
  },
  {
   "cell_type": "code",
   "execution_count": 1,
   "metadata": {},
   "outputs": [
    {
     "data": {
      "text/plain": [
       "34"
      ]
     },
     "execution_count": 1,
     "metadata": {},
     "output_type": "execute_result"
    }
   ],
   "source": [
    "len('Supercalifragilisticexpialidocious')"
   ]
  },
  {
   "cell_type": "markdown",
   "metadata": {},
   "source": [
    "# b."
   ]
  },
  {
   "cell_type": "code",
   "execution_count": 2,
   "metadata": {},
   "outputs": [
    {
     "name": "stdout",
     "output_type": "stream",
     "text": [
      "True\n"
     ]
    }
   ],
   "source": [
    "string= ('Supercalifragilisticexpialidocious')\n",
    "print('ice' in string)\n"
   ]
  },
  {
   "cell_type": "markdown",
   "metadata": {},
   "source": [
    "# c."
   ]
  },
  {
   "cell_type": "code",
   "execution_count": 3,
   "metadata": {},
   "outputs": [
    {
     "name": "stdout",
     "output_type": "stream",
     "text": [
      "Supercalifragilisticexpialidocious\n"
     ]
    }
   ],
   "source": [
    "def longestword(words):\n",
    "    longest = words[0]\n",
    "    for i in words:\n",
    "        if len(i) > len(longest): \n",
    "            longest = i\n",
    "    return longest\n",
    "print(longestword([\"Supercalifragilisticexpialidocious\",\"Honorificabilitudinitatibus\",\"Bababadalgharaghtakamninarronnkonn\"]))"
   ]
  },
  {
   "cell_type": "markdown",
   "metadata": {},
   "source": [
    "# d."
   ]
  },
  {
   "cell_type": "code",
   "execution_count": 4,
   "metadata": {},
   "outputs": [
    {
     "name": "stdout",
     "output_type": "stream",
     "text": [
      "('Bartok', 'Buxtehude')\n"
     ]
    }
   ],
   "source": [
    "def composer(composerlist):\n",
    "    composerlist.sort()\n",
    "    return composerlist[0],composerlist[6]\n",
    "print(composer(['Berlioz', 'Borodin', 'Brian', 'Bartok', 'Bellini', 'Buxtehude', 'Bernstein' ]))"
   ]
  },
  {
   "cell_type": "markdown",
   "metadata": {},
   "source": [
    "# Question 3\n",
    "\n",
    "# a. Write a function inside(x,y,x1,y1,x2,y2) that returns True or False depending on whether the point (x,y) lies in the rectangle with lower left corner (x1,y1) and upper right corner (x2,y2). \n",
    " \n",
    "# >>> inside(1,1,0,0,2,3) True\n",
    "# >>> inside(-1,-1,0,0,2,3) False \n",
    " \n",
    "# b. Use function inside() from part a. to write an expression that tests whether the point (1,1) lies in both of the following rectangles: one with lower left corner (0.3, 0.5) and upper right corner (1.1, 0.7) and the other with lower left corner (0.5, 0.2) and upper right corner (1.1, 2).\n",
    "\n",
    "# Answer 3\n"
   ]
  },
  {
   "cell_type": "code",
   "execution_count": 31,
   "metadata": {},
   "outputs": [
    {
     "name": "stdout",
     "output_type": "stream",
     "text": [
      "True\n",
      "False\n",
      "False\n",
      "True\n"
     ]
    }
   ],
   "source": [
    "def inside (x,y,x1,y1,x2,y2):\n",
    "    res = False\n",
    "    if x>=x1 and y>=y1 and x<=x2 and y<=y2:\n",
    "        return True\n",
    "    return res \n",
    "value1 = inside(1,1,0,0,2,3)\n",
    "print(value1)\n",
    "\n",
    "value2 = inside(-1,-1,0,0,2,3)\n",
    "print(value2)\n",
    "\n",
    "# Part b\n",
    "\n",
    "\n",
    "\n",
    "a1 = inside(1,1,0.3,0.5,1.1,0.7)\n",
    "print(a1)\n",
    "a2 = inside(1,1,0.5,0.2,1.1,2)\n",
    "print(a2)\n"
   ]
  },
  {
   "cell_type": "markdown",
   "metadata": {},
   "source": [
    "# Question 4 \n",
    "# You can turn a word into pig-Latin using the following two rules (simplified):\n",
    "# • If the word starts with a consonant, move that letter to the end and append 'ay'. For example, 'happy' becomes 'appyhay' and 'pencil' becomes 'encilpay'. \n",
    "# • If the word starts with a vowel, simply append 'way' to the end of the word. For example, 'enter' becomes 'enterway' and 'other' becomes 'otherway' . For our purposes, there are 5 vowels: a, e, i, o, u (so we count y as a consonant). \n",
    "# Write a function pig() that takes a word (i.e., a string) as input and returns its pigLatin form. Your function should still work if the input word contains upper case characters. Your output should always be lower case however.  \n",
    " \n",
    "# >>> pig('happy') 'appyhay' \n",
    "# >>> pig('Enter') 'enterway' \n",
    "\n",
    "# Answer 4"
   ]
  },
  {
   "cell_type": "code",
   "execution_count": 8,
   "metadata": {},
   "outputs": [
    {
     "name": "stdout",
     "output_type": "stream",
     "text": [
      "ishhay\n"
     ]
    }
   ],
   "source": [
    "def pig(str):\n",
    "    if str[0] in ['a', 'e', 'i', 'o', 'u',]:\n",
    "        str = str+\"way\"\n",
    "        return str \n",
    "    \n",
    "    else:\n",
    "        # str2=str2.replace(0,len(str2))\n",
    "        # str3 = appy + h + \"ay\"\n",
    "        # str[start : end]\n",
    "        str3= str[1:] + str[0] + \"ay\"\n",
    "        return str3\n",
    "    \n",
    "print(pig(\"hish\"))"
   ]
  },
  {
   "cell_type": "markdown",
   "metadata": {},
   "source": [
    "# Question 5\n",
    "# File bloodtype1.txt records blood-types of patients (A, B, AB, O or OO) at a clinic. Write a function bldcount() that reads the file with name name and reports (i.e., prints) how many patients there are in each bloodtype. \n",
    " \n",
    "# >>> bldcount('bloodtype.txt') There are 10 patients of blood type A. \n",
    "# There is one patient of blood type B.\n",
    "# There are 10 patients of blood type AB. \n",
    "# There are 12 patients of blood type O. \n",
    "# There are no patients of blood type OO. \n",
    "\n",
    "\n",
    "# Answer 5\n"
   ]
  },
  {
   "cell_type": "code",
   "execution_count": 13,
   "metadata": {},
   "outputs": [
    {
     "name": "stdout",
     "output_type": "stream",
     "text": [
      "there are 13 patient of AB\n",
      "there are 15 patient of A\n",
      "there are 1 patient of B\n",
      "there are 0 patient of OO\n",
      "there are 15 patient of O\n"
     ]
    }
   ],
   "source": [
    "    def bloodcount(name):\n",
    "        f=open(name,\"r\")\n",
    "        for line in f:\n",
    "            blood = line.split(' ') # split function splits a string into a list\n",
    "        blood_group = ['AB','A','B','OO','O']\n",
    "        for i in blood_group:\n",
    "            \n",
    "            print(\"there are\",blood.count(i),\"patient of\",i)\n",
    "bloodcount(\"bloodtype .txt\")"
   ]
  },
  {
   "cell_type": "markdown",
   "metadata": {},
   "source": [
    "# Question 6 \n",
    "# Write a function curconv() that takes as input: \n",
    " \n",
    "# 1. a currency represented using a string (e.g., 'JPY' for the Japanese Yen or 'EUR' for the Euro) 2. an amount and then converts and returns the amount in US dollars. \n",
    " \n",
    "# >>> curconv('EUR', 100) \n",
    "# 122.96544 \n",
    "# >>> curconv('JPY', 100) \n",
    "# 1.241401 \n",
    "# The currency rates you will need are stored in file currencies.txt: \n",
    " \n",
    "# AUD 1.0345157 Australian Dollar\n",
    "# CHF 1.0237414 Swiss Franc\n",
    "# CNY 0.1550176 Chinese Yuan\n",
    "# DKK 0.1651442 Danish Krone\n",
    "# EUR 1.2296544 Euro\n",
    "# GBP 1.5550989 British Pound\n",
    "# HKD 0.1270207 Hong Kong Dollar\n",
    "# INR 0.0177643 Indian Rupee\n",
    "# JPY 0.01241401 Japanese Yen\n",
    "# MXN 0.0751848 Mexican Peso\n",
    "# MYR 0.3145411 Malaysian Ringgit\n",
    "# NOK 0.1677063 Norwegian Krone\n",
    "# NZD 0.8003591 New Zealand Dollar\n",
    "# PHP 0.0233234 Philippine Peso\n",
    "# SEK 0.148269 Swedish Krona\n",
    "# SGD 0.788871 Singapore Dollar\n",
    "# THB 0.0313789 Thai Baht \n",
    "  \n",
    "# Answer 6"
   ]
  },
  {
   "cell_type": "code",
   "execution_count": 20,
   "metadata": {},
   "outputs": [
    {
     "name": "stdout",
     "output_type": "stream",
     "text": [
      "122.96544\n",
      "1.241401\n"
     ]
    }
   ],
   "source": [
    "def curconv(curr,amount):\n",
    "    f=open(r\"currencies.txt\",\"r\")\n",
    "    for line in f:\n",
    "        if curr == line.split(\" \")[0]:\n",
    "            return amount * float(line.split(\" \")[1])\n",
    "print(curconv('EUR',100))     \n",
    "print(curconv('JPY',100))"
   ]
  },
  {
   "cell_type": "markdown",
   "metadata": {},
   "source": [
    "# Question 7\n",
    "# Each of the following will cause an exception (an error). Identify what type of exception each will cause. \n",
    " \n",
    "# Trying to add incompatible variables, as in adding 6 + ‘a’ \n",
    " # Referring to the 12th item of a list that has only 10 items \n",
    " \n",
    "# Using a value that is out of range for a function’s input, such as calling math.sqrt(-1.0)  \n",
    " # Using an undeclared variable, such as print(x) when x has not been defined\n",
    " # Trying to open a file that does not exist, such as mistyping the file name or looking in the wrong directory\n",
    " \n",
    " # Answer 7\n",
    " \n",
    "  \n",
    " \n",
    "# Trying to add incompatible variables, as in adding 6 + ‘a’ = Type error\n",
    "\n",
    "# Referring to the 12th item of a list that has only 10 items = Index error \n",
    " \n",
    "# Using a value that is out of range for a function’s input, such as calling math.sqrt(-1.0)  = Value error\n",
    "\n",
    "# Using an undeclared variable, such as print(x) when x has not been defined\n",
    "# =Name error\n",
    "# Trying to open a file that does not exist, such as mistyping the file name or looking in the wrong directory = File not found error\n",
    " "
   ]
  },
  {
   "cell_type": "markdown",
   "metadata": {},
   "source": [
    "# Question 8 Encryption is the process of hiding the meaning of a text by substituting letters in the message with other letters, according to some system. If the process is successful, no one but the intended recipient can understand the encrypted message. Cryptanalysis refers to attempts to undo the encryption, even if some details of the encryption are unknown (for example, if an encrypted message has been intercepted). The first step of cryptanalysis is often to build up a table of letter frequencies in the encrypted text. Assume that the string letters is already defined as 'abcdefghijklmnopqrstuvwxyz'. Write a function called frequencies() that takes a string as its only parameter, and returns a list of integers, showing the number of times each character appears in the text. Your function may ignore any characters that are not in letters.  \n",
    " \n",
    "# >>> frequencies('The quick red fox got bored and went home.') [1, 1, 1, 3, 5, 1, 1, 2, 1, 0, 1, 0, 1, 2, 4, 0, 1, 2, 0, 2, 1, 0, 1, 1, 0, 0] \n",
    "# >>> frequencies('apple') \n",
    "\n",
    "# Answer 8"
   ]
  },
  {
   "cell_type": "code",
   "execution_count": 33,
   "metadata": {},
   "outputs": [
    {
     "name": "stdout",
     "output_type": "stream",
     "text": [
      "the quick red foxgot bored and went home\n",
      "[1, 1, 1, 3, 5, 1, 1, 2, 1, 0, 1, 0, 1, 2, 4, 0, 1, 2, 0, 3, 1, 0, 1, 1, 0, 0]\n"
     ]
    }
   ],
   "source": [
    "def frequencies(inp):\n",
    "    t=[]\n",
    "    \n",
    "    inp=inp.lower()\n",
    "    \n",
    "    print(inp)\n",
    "    for i in range(26):\n",
    "        t.append(0)\n",
    "        \n",
    "    for i in inp:    \n",
    "        if i.isspace()==False & (ord(i)>=97 & ord(i)<=122):\n",
    "            t[ord(i)-97]=t[ord(i)-97]+1\n",
    "    print(t)\n",
    "    \n",
    "frequencies(\"the quick red foxgot bored and went home\")    \n",
    "                                 "
   ]
  },
  {
   "cell_type": "markdown",
   "metadata": {},
   "source": [
    "# Question 9 The Sieve of Erastophenes is an algorithm -- known to ancient Greeks -- that finds all prime numbers up to a given number n. It does this by first creating a list L from 2 to n and an (initially empty) list primeL. The algorithm then takes the first number in list L (2) and appends it to list primeL, and then removes 2 and all its multiples (4,6,8,10,12, ...) from L. The algorithm then takes the new first number in L (3) and appends it to list primeL, and then removes from L 3 and all its remaining multiples (9,15,21,...). So, in every iteration, the first number of list L is appended to list primeL and then it and its multiples are removed from list L. The iterations stop when list L becomes empty. Write a function sieve() that takes as input a positive integer n, implements the above algorithm, and returns a list of all prime numbers up to n. \n",
    "# >>> sieve(56) [2, 3, 5, 7, 11, 13, 17, 19, 23, 29, 31, 37, 41, 43, 47, 53]\n",
    "# >>> sieve(368) [2, 3, 5, 7, 11, 13, 17, 19, 23, 29, 31, 37, 41, 43, 47, 53, 59, 61, 67, 71, 73, 79, 83, 89, 97, 101, 103, 107, 109, 113, 127, 131, 137, 139, 149, 151, 157, 163, 167, 173, 179, 181, 191, 193, 197, 199, 211, 223, 227, 229, 233, 239, 241, 251, 257, 263, 269, 271, 277, 281, 283, 293, 307, 311, 313, 317, 331, 337, 347, 349, 353, 359, 367] \n",
    "# >>> sieve(32) [2, 3, 5, 7, 11, 13, 17, 19, 23, 29, 31]\n",
    "\n",
    "# Answer 9"
   ]
  },
  {
   "cell_type": "code",
   "execution_count": 29,
   "metadata": {},
   "outputs": [
    {
     "name": "stdout",
     "output_type": "stream",
     "text": [
      "[2, 3, 5, 7, 11, 13, 17, 19, 23, 29, 31, 37, 41, 43, 47, 53, 59, 61, 67, 71, 73, 79, 83, 89, 97, 101, 103, 107, 109, 113, 127, 131, 137, 139, 149, 151, 157, 163, 167, 173, 179, 181, 191, 193, 197, 199, 211, 223, 227, 229, 233, 239, 241, 251, 257, 263, 269, 271, 277, 281, 283, 293, 307, 311, 313, 317, 331, 337, 347, 349, 353, 359, 367]\n"
     ]
    }
   ],
   "source": [
    "def sieve(n): \n",
    "      \n",
    "    r=[]\n",
    "    prime = [True for i in range(n + 1)] \n",
    "    p = 2\n",
    "    while (p * p <= n): \n",
    "          \n",
    "        \n",
    "        if (prime[p] == True): \n",
    "              \n",
    "           \n",
    "            for i in range(p * 2, n + 1, p): \n",
    "                prime[i] = False\n",
    "        p += 1\n",
    "    prime[0]= False\n",
    "    prime[1]= False\n",
    " \n",
    "    for p in range(n + 1): \n",
    "        if prime[p]: \n",
    "            r.append(p) \n",
    "    \n",
    "    print(r)\n",
    "\n",
    "sieve(368)"
   ]
  },
  {
   "cell_type": "markdown",
   "metadata": {},
   "source": [
    "# Implement function triangleArea(a,b,c) that takes as input the lengths of the 3 sides of a triangle and returns the area of the triangle. By Heron's formula, the area of a triangle with side lengths a, b, and c is \n",
    "  \n",
    "# s(s-a)(s-b)(s-c), where \n",
    "  \n",
    "# s=(a+b+c)/2.  \n",
    " \n",
    "# >>> triangleArea(2,2,2) 1.7320508075688772 \n",
    "\n",
    "# Answer 10\n"
   ]
  },
  {
   "cell_type": "code",
   "execution_count": 30,
   "metadata": {},
   "outputs": [
    {
     "name": "stdout",
     "output_type": "stream",
     "text": [
      "1.7320508075688772\n"
     ]
    }
   ],
   "source": [
    "import math\n",
    "def triangleArea(a,b,c):\n",
    "    s = (a+b+c)/2\n",
    "    res = math.sqrt(s*(s-a)*(s-b)*(s-c))\n",
    "    return res\n",
    "r = triangleArea(2,2,2)\n",
    "print(r)"
   ]
  },
  {
   "cell_type": "code",
   "execution_count": null,
   "metadata": {},
   "outputs": [],
   "source": []
  },
  {
   "cell_type": "code",
   "execution_count": null,
   "metadata": {},
   "outputs": [],
   "source": []
  }
 ],
 "metadata": {
  "kernelspec": {
   "display_name": "Python 3",
   "language": "python",
   "name": "python3"
  },
  "language_info": {
   "codemirror_mode": {
    "name": "ipython",
    "version": 3
   },
   "file_extension": ".py",
   "mimetype": "text/x-python",
   "name": "python",
   "nbconvert_exporter": "python",
   "pygments_lexer": "ipython3",
   "version": "3.7.6"
  }
 },
 "nbformat": 4,
 "nbformat_minor": 4
}
